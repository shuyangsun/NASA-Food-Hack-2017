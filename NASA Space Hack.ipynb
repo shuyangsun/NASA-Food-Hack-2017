{
 "cells": [
  {
   "cell_type": "code",
   "execution_count": 1,
   "metadata": {
    "collapsed": true
   },
   "outputs": [],
   "source": [
    "# Copyright (c) 2017 WasteNot\n",
    "# \n",
    "# Permission is hereby granted, free of charge, to any person obtaining a copy\n",
    "# of this software and associated documentation files (the \"Software\"), to deal\n",
    "# in the Software without restriction, including without limitation the rights\n",
    "# to use, copy, modify, merge, publish, distribute, sublicense, and/or sell\n",
    "# copies of the Software, and to permit persons to whom the Software is\n",
    "# furnished to do so, subject to the following conditions:\n",
    "# \n",
    "# The above copyright notice and this permission notice shall be included in all\n",
    "# copies or substantial portions of the Software.\n",
    "# \n",
    "# THE SOFTWARE IS PROVIDED \"AS IS\", WITHOUT WARRANTY OF ANY KIND, EXPRESS OR\n",
    "# IMPLIED, INCLUDING BUT NOT LIMITED TO THE WARRANTIES OF MERCHANTABILITY,\n",
    "# FITNESS FOR A PARTICULAR PURPOSE AND NONINFRINGEMENT. IN NO EVENT SHALL THE\n",
    "# AUTHORS OR COPYRIGHT HOLDERS BE LIABLE FOR ANY CLAIM, DAMAGES OR OTHER\n",
    "# LIABILITY, WHETHER IN AN ACTION OF CONTRACT, TORT OR OTHERWISE, ARISING FROM,\n",
    "# OUT OF OR IN CONNECTION WITH THE SOFTWARE OR THE USE OR OTHER DEALINGS IN THE\n",
    "# SOFTWARE."
   ]
  },
  {
   "cell_type": "code",
   "execution_count": 2,
   "metadata": {
    "collapsed": true
   },
   "outputs": [],
   "source": [
    "import numpy as np\n",
    "import matplotlib.pyplot as plt\n",
    "import sklearn as skl\n",
    "import scipy\n",
    "from sklearn import linear_model\n",
    "import datetime\n",
    "\n",
    "%matplotlib inline"
   ]
  },
  {
   "cell_type": "code",
   "execution_count": 3,
   "metadata": {
    "collapsed": true
   },
   "outputs": [],
   "source": [
    "# Features: Date, What they bought, How much food did the customer throw away, inventory leftover\n",
    "# Weather, Season, Holiday events, Location of restaurant"
   ]
  },
  {
   "cell_type": "code",
   "execution_count": 4,
   "metadata": {
    "collapsed": true
   },
   "outputs": [],
   "source": [
    "food_to_ing_dict = {\n",
    "    'Salad': {\n",
    "        ('lettuce', 300),\n",
    "        ('tomato', 50),\n",
    "        ('cucumber', 50)\n",
    "    },\n",
    "    'Cheese Burger': {\n",
    "        ('flour', 100),\n",
    "        ('cheese', 20),\n",
    "        ('beef', 500),\n",
    "        ('lettuce', 10),\n",
    "        ('tomato', 10)\n",
    "    },\n",
    "    'Pizza': {\n",
    "        ('cheese', 300),\n",
    "        ('tomato', 50),\n",
    "        ('flour', 300),\n",
    "        ('pepperoni', 100)\n",
    "    }\n",
    "}"
   ]
  },
  {
   "cell_type": "code",
   "execution_count": 5,
   "metadata": {
    "collapsed": true
   },
   "outputs": [],
   "source": [
    "season_to_num_dict = {\n",
    "    'Spring': 0,\n",
    "    'Summer': 1,\n",
    "    'Fall': 2,\n",
    "    'Winter': 3\n",
    "}"
   ]
  },
  {
   "cell_type": "code",
   "execution_count": 6,
   "metadata": {
    "collapsed": true
   },
   "outputs": [],
   "source": [
    "# Columns:\n",
    "# Year,Month,Day,Lunch/Dinner(0,1),Season(Spring,Summer,Autumn,Winter),Number of People(int),temp(int),Wind Speed(int Km/h),Humidity(%),Precipitation(%),Food (Salad,Cheese Burger,Pizza)\n",
    "# 2017,1,1,0,\"Spring\",2,28,21,0.46,0.15,\"Salad\","
   ]
  },
  {
   "cell_type": "code",
   "execution_count": 7,
   "metadata": {
    "collapsed": true
   },
   "outputs": [],
   "source": [
    "data = np.genfromtxt('food.csv', delimiter=',', dtype=np.str)\n",
    "features = data[:, :-1]\n",
    "for key in season_to_num_dict.keys():\n",
    "    features[np.where(features == key)] = season_to_num_dict[key]"
   ]
  },
  {
   "cell_type": "code",
   "execution_count": 8,
   "metadata": {
    "collapsed": true
   },
   "outputs": [],
   "source": [
    "output_raw = data[:, -1]\n",
    "# lettuce, tomato, cucumber, flour, cheese, beef, pepperoni\n",
    "outputs_arr = ['lettuce', 'tomato', 'cucumber', 'flour', 'cheese', 'beef', 'pepperoni']\n",
    "output = np.zeros((len(data), 7))\n",
    "for idx, food in enumerate(output_raw):\n",
    "    ing_set = food_to_ing_dict[food]\n",
    "    for name, quantity in ing_set:\n",
    "        output_arr_idx = outputs_arr.index(name)\n",
    "        output[idx, output_arr_idx] += quantity\n",
    "\n",
    "num_days = 10\n",
    "today = datetime.date.today()\n",
    "today_m = today.month\n",
    "today_d = today.day\n",
    "next_date = today + datetime.timedelta(days=num_days)\n",
    "next_date_m = next_date.month\n",
    "next_date_d = next_date.day"
   ]
  },
  {
   "cell_type": "code",
   "execution_count": 9,
   "metadata": {
    "scrolled": true
   },
   "outputs": [
    {
     "name": "stdout",
     "output_type": "stream",
     "text": [
      "['lettuce', 'tomato', 'cucumber', 'flour', 'cheese', 'beef', 'pepperoni']\n",
      "[17052  7599  2672 31467 27354 25643  8708]\n",
      "[15973  7112  2506 29509 25626 24190  8162]\n",
      "[15163  6838  2383 28566 24815 23338  7899]\n",
      "[15103  6711  2376 27821 24115 23067  7671]\n",
      "[12571  4961  1978 19239 16406 17717  5178]\n",
      "[12524  4999  1981 19510 16630 17922  5266]\n",
      "[12291  4995  1930 19758 16883 17892  5345]\n",
      "[11672  4683  1838 18368 15655 16880  4950]\n",
      "[12558  5016  1976 19647 16703 18273  5280]\n",
      "[11958  4825  1885 19027 16208 17540  5122]\n",
      "[ 9655  3988  1526 15930 13612 14449  4309]\n",
      "[12436  5077  1952 20184 17186 18740  5436]\n"
     ]
    }
   ],
   "source": [
    "print(outputs_arr)\n",
    "for i in range(12):\n",
    "    idx = np.where(features[:, 1].astype(np.int) == (i + 1))\n",
    "    input_features = features[idx].astype(np.float)\n",
    "    \n",
    "    model = skl.linear_model.Ridge(fit_intercept=True, normalize=True, copy_X=True, alpha=0.1)\n",
    "    model.fit(features, output)\n",
    "    res = model.predict(input_features)\n",
    "    res = res.astype(np.int)\n",
    "    res = np.sum(res, axis=0)\n",
    "    print(res)"
   ]
  }
 ],
 "metadata": {
  "kernelspec": {
   "display_name": "Python 3",
   "language": "python",
   "name": "python3"
  },
  "language_info": {
   "codemirror_mode": {
    "name": "ipython",
    "version": 3
   },
   "file_extension": ".py",
   "mimetype": "text/x-python",
   "name": "python",
   "nbconvert_exporter": "python",
   "pygments_lexer": "ipython3",
   "version": "3.6.1"
  }
 },
 "nbformat": 4,
 "nbformat_minor": 2
}
